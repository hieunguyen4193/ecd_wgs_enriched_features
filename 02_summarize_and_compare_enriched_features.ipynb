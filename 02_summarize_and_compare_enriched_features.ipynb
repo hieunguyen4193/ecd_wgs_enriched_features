{
 "cells": [
  {
   "cell_type": "code",
   "execution_count": 1,
   "id": "ddf09899",
   "metadata": {},
   "outputs": [
    {
     "name": "stderr",
     "output_type": "stream",
     "text": [
      "100%|██████████| 125/125 [00:00<00:00, 405.04it/s]\n"
     ]
    }
   ],
   "source": [
    "import pandas as pd \n",
    "import numpy as np \n",
    "import matplotlib.pyplot as plt \n",
    "import seaborn as sns \n",
    "import warnings \n",
    "import pathlib \n",
    "import os \n",
    "import ot\n",
    "import openpyxl\n",
    "from openpyxl.styles import PatternFill\n",
    "from tqdm import tqdm\n",
    "warnings.filterwarnings(\"ignore\")\n",
    "\n",
    "project = \"ecd_wgs_enriched_features\"\n",
    "inputdir = f\"/Volumes/HNSD01/storage/{project}\"\n",
    "outputdir = f\"/Volumes/HNSD01/outdir/{project}\"\n",
    "\n",
    "path_to_00_output = os.path.join(outputdir, \"00_output\")\n",
    "path_to_01_output = os.path.join(outputdir, \"01_output\")\n",
    "path_to_02_output = os.path.join(outputdir, \"02_output\")\n",
    "os.system(f\"mkdir -p {path_to_02_output}\")\n",
    "\n",
    "input_files = [item for item in pathlib.Path(path_to_01_output).glob(\"*/avg_OT_dist.xlsx\")]\n",
    "\n",
    "df = pd.DataFrame()\n",
    "for file in tqdm(input_files):\n",
    "    tmpdf = pd.read_excel(file)\n",
    "    filenames = str(file).split(\"/\")[-2].split(\"_\")\n",
    "    panel = \"_\".join(filenames[0:2])\n",
    "    strategy = str(file).split(\"/\")[-2].replace(f\"{panel}_\", \"\")\n",
    "    tmpdf[\"panel\"] = panel\n",
    "    tmpdf[\"strategy\"] = strategy\n",
    "    df = pd.concat([df, tmpdf], axis = 0)\n",
    "\n",
    "full_avg_ot_dist = pd.read_excel(os.path.join(path_to_00_output, \"avg_OT_dist.xlsx\"))\n",
    "full_avg_ot_dist[\"panel\"] = \"full\"\n",
    "full_avg_ot_dist[\"strategy\"] = \"full\"\n",
    "summary_avg_dist_ot = dict()\n",
    "for feature_type in df[\"feature\"].unique().tolist():\n",
    "    tmpdf = df[df[\"feature\"] == feature_type]\n",
    "    tmpdf = pd.concat([tmpdf, full_avg_ot_dist[full_avg_ot_dist[\"feature\"] == feature_type]], axis = 0)\n",
    "    summary_avg_dist_ot[feature_type] = tmpdf.sort_values(by = \"avg_dist_full\", ascending = False).copy()\n",
    "    \n",
    "    summary_avg_dist_ot[feature_type].to_excel(os.path.join(path_to_02_output, \n",
    "                                                            f\"summary_avg_OT_dist_{feature_type}.xlsx\"), index = False)\n",
    "\n",
    "    wb = openpyxl.load_workbook(os.path.join(path_to_02_output, f\"summary_avg_OT_dist_{feature_type}.xlsx\"))\n",
    "    ws = wb.active\n",
    "\n",
    "    highlight_fill = PatternFill(start_color=\"FFFF00\", end_color=\"FFFF00\", fill_type=\"solid\")\n",
    "    highlight_fill2 = PatternFill(start_color=\"FFCCCC\", end_color=\"FFCCCC\", fill_type=\"solid\")\n",
    "\n",
    "    for row in ws.iter_rows(min_row=2, max_row=ws.max_row):\n",
    "        panel_value = row[3].value\n",
    "        if panel_value == \"full\":\n",
    "            for cell in row:\n",
    "                cell.fill = highlight_fill\n",
    "        if(\"Lung\" in panel_value) or (\"LUNG\" in panel_value) or (\"lung\" in panel_value):\n",
    "            for cell in row:\n",
    "                cell.fill = highlight_fill2\n",
    "    wb.save(os.path.join(path_to_02_output, f\"summary_avg_OT_dist_{feature_type}.highlight.xlsx\"))\n"
   ]
  },
  {
   "cell_type": "code",
   "execution_count": 2,
   "id": "a6665ac2",
   "metadata": {},
   "outputs": [
    {
     "data": {
      "text/plain": [
       "-0.024174491109321905"
      ]
     },
     "execution_count": 2,
     "metadata": {},
     "output_type": "execute_result"
    }
   ],
   "source": [
    "full_flen_entropydf = pd.read_excel(os.path.join(path_to_00_output, \"fragment_length_entropy.xlsx\"))\n",
    "full_diff_entropy = full_flen_entropydf.groupby(\"Label\")[\"entropy\"].mean().Cancer - full_flen_entropydf.groupby(\"Label\")[\"entropy\"].mean().Control\n",
    "full_diff_entropy"
   ]
  },
  {
   "cell_type": "code",
   "execution_count": 3,
   "id": "24c7f797",
   "metadata": {},
   "outputs": [
    {
     "name": "stderr",
     "output_type": "stream",
     "text": [
      "100%|██████████| 125/125 [00:00<00:00, 301.27it/s]\n"
     ]
    }
   ],
   "source": [
    "input_entropy_files = [item for item in pathlib.Path(path_to_01_output).glob(\"*/fragment_length_entropy.xlsx\")]\n",
    "diff_entropydf = pd.DataFrame()\n",
    "for file in tqdm(input_entropy_files):\n",
    "    tmp_entropydf = pd.read_excel(file)\n",
    "    diff_entropy = tmp_entropydf.groupby(\"Label\")[\"entropy\"].mean().Cancer - tmp_entropydf.groupby(\"Label\")[\"entropy\"].mean().Control\n",
    "    filenames = str(file).split(\"/\")[-2].split(\"_\")\n",
    "    panel = \"_\".join(filenames[0:2])\n",
    "    strategy = str(file).split(\"/\")[-2].replace(f\"{panel}_\", \"\")\n",
    "    tmpdf = pd.DataFrame({\n",
    "        \"panel\": [panel],\n",
    "        \"strategy\": [strategy],\n",
    "        \"diff_entropy_flen\": [diff_entropy]\n",
    "    })\n",
    "    diff_entropydf = pd.concat([diff_entropydf, tmpdf], axis = 0)\n",
    "diff_entropydf[\"abs_diff_entropy_flen\"] = diff_entropydf[\"diff_entropy_flen\"].abs()\n",
    "diff_entropydf = pd.concat([diff_entropydf, \n",
    "                             pd.DataFrame({\n",
    "                                 \"panel\": [\"full\"],\n",
    "                                 \"strategy\": [\"full\"],\n",
    "                                 \"diff_entropy_flen\": [full_diff_entropy],\n",
    "                                 \"abs_diff_entropy_flen\": [abs(full_diff_entropy)]\n",
    "                             })], axis = 0)\n",
    "diff_entropydf = diff_entropydf.sort_values(by = \"abs_diff_entropy_flen\", ascending = False)\n",
    "diff_entropydf.to_excel(os.path.join(path_to_02_output, \"summary_diff_entropy_flen.xlsx\"), index = False)\n",
    "wb = openpyxl.load_workbook(os.path.join(path_to_02_output, \"summary_diff_entropy_flen.xlsx\"))\n",
    "ws = wb.active\n",
    "\n",
    "highlight_fill = PatternFill(start_color=\"FFFF00\", end_color=\"FFFF00\", fill_type=\"solid\")\n",
    "\n",
    "for row in ws.iter_rows(min_row=2, max_row=ws.max_row):\n",
    "    panel_value = row[0].value\n",
    "    strategy_value = row[1].value\n",
    "    if panel_value == \"full\":\n",
    "        for cell in row:\n",
    "            cell.fill = highlight_fill\n",
    "    if(\"Lung\" in strategy_value) or (\"LUNG\" in strategy_value) or (\"lung\" in strategy_value):\n",
    "        for cell in row:\n",
    "            cell.fill = highlight_fill2\n",
    "wb.save(os.path.join(path_to_02_output, \"summary_diff_entropy_flen_highlight.xlsx\"))"
   ]
  },
  {
   "cell_type": "code",
   "execution_count": 4,
   "id": "f59d9f12",
   "metadata": {},
   "outputs": [
    {
     "data": {
      "text/plain": [
       "0.0046004873420981696"
      ]
     },
     "execution_count": 4,
     "metadata": {},
     "output_type": "execute_result"
    }
   ],
   "source": [
    "full_em_entropydf = pd.read_excel(os.path.join(path_to_00_output, \"end_motif_entropy.xlsx\"))\n",
    "full_diff_entropy = full_em_entropydf.groupby(\"Label\")[\"entropy\"].mean().Cancer - full_em_entropydf.groupby(\"Label\")[\"entropy\"].mean().Control\n",
    "full_diff_entropy"
   ]
  },
  {
   "cell_type": "code",
   "execution_count": 5,
   "id": "065e35fd",
   "metadata": {},
   "outputs": [
    {
     "name": "stderr",
     "output_type": "stream",
     "text": [
      "100%|██████████| 125/125 [00:00<00:00, 317.09it/s]\n"
     ]
    }
   ],
   "source": [
    "input_entropy_files = [item for item in pathlib.Path(path_to_01_output).glob(\"*/end_motif_entropy.xlsx\")]\n",
    "diff_entropydf = pd.DataFrame()\n",
    "for file in tqdm(input_entropy_files):\n",
    "    tmp_entropydf = pd.read_excel(file)\n",
    "    diff_entropy = tmp_entropydf.groupby(\"Label\")[\"entropy\"].mean().Cancer - tmp_entropydf.groupby(\"Label\")[\"entropy\"].mean().Control\n",
    "    filenames = str(file).split(\"/\")[-2].split(\"_\")\n",
    "    panel = \"_\".join(filenames[0:2])\n",
    "    strategy = str(file).split(\"/\")[-2].replace(f\"{panel}_\", \"\")\n",
    "    tmpdf = pd.DataFrame({\n",
    "        \"panel\": [panel],\n",
    "        \"strategy\": [strategy],\n",
    "        \"diff_entropy_em\": [diff_entropy]\n",
    "    })\n",
    "    diff_entropydf = pd.concat([diff_entropydf, tmpdf], axis = 0)\n",
    "\n",
    "diff_entropydf[\"abs_diff_entropy_em\"] = diff_entropydf[\"diff_entropy_em\"].abs()\n",
    "diff_entropydf = pd.concat([diff_entropydf, \n",
    "                             pd.DataFrame({\n",
    "                                 \"panel\": [\"full\"],\n",
    "                                 \"strategy\": [\"full\"],\n",
    "                                 \"diff_entropy_em\": [full_diff_entropy],\n",
    "                                 \"abs_diff_entropy_em\": [abs(full_diff_entropy)]\n",
    "                             })], axis = 0)\n",
    "diff_entropydf = diff_entropydf.sort_values(by = \"abs_diff_entropy_em\", ascending = False)\n",
    "diff_entropydf.to_excel(os.path.join(path_to_02_output, \"summary_diff_entropy_EM.xlsx\"), index = False)\n",
    "\n",
    "wb = openpyxl.load_workbook(os.path.join(path_to_02_output, \"summary_diff_entropy_EM.xlsx\"))\n",
    "ws = wb.active\n",
    "\n",
    "highlight_fill = PatternFill(start_color=\"FFFF00\", end_color=\"FFFF00\", fill_type=\"solid\")\n",
    "\n",
    "for row in ws.iter_rows(min_row=2, max_row=ws.max_row):\n",
    "    panel_value = row[0].value\n",
    "    strategy_value = row[1].value\n",
    "    if panel_value == \"full\":\n",
    "        for cell in row:\n",
    "            cell.fill = highlight_fill\n",
    "    if(\"Lung\" in strategy_value) or (\"LUNG\" in strategy_value) or (\"lung\" in strategy_value):\n",
    "        for cell in row:\n",
    "            cell.fill = highlight_fill2\n",
    "wb.save(os.path.join(path_to_02_output, \"summary_diff_entropy_EM_highlight.xlsx\"))"
   ]
  }
 ],
 "metadata": {
  "kernelspec": {
   "display_name": "pytorch",
   "language": "python",
   "name": "python3"
  },
  "language_info": {
   "codemirror_mode": {
    "name": "ipython",
    "version": 3
   },
   "file_extension": ".py",
   "mimetype": "text/x-python",
   "name": "python",
   "nbconvert_exporter": "python",
   "pygments_lexer": "ipython3",
   "version": "3.8.19"
  }
 },
 "nbformat": 4,
 "nbformat_minor": 5
}
