{
 "cells": [
  {
   "cell_type": "code",
   "execution_count": 8,
   "id": "8a295dd6",
   "metadata": {},
   "outputs": [
    {
     "name": "stdout",
     "output_type": "stream",
     "text": [
      "(337, 8)\n",
      "(98, 8)\n",
      "(452, 8)\n",
      "(432, 8)\n",
      "(252, 8)\n",
      "(338, 8)\n",
      "(307, 8)\n",
      "(148, 8)\n",
      "(141, 8)\n",
      "(131, 8)\n",
      "(55, 8)\n",
      "(18, 8)\n",
      "(89, 8)\n",
      "(30, 8)\n"
     ]
    }
   ],
   "source": [
    "import pandas as pd \n",
    "import pathlib\n",
    "import os \n",
    "\n",
    "maindir = \"/media/hieunguyen/HNSD01/src/ecd_wgs_features/atacseq_bed\"\n",
    "\n",
    "files = [item for item in pathlib.Path(maindir).glob(\"*.xls\")]\n",
    "\n",
    "for file in files:\n",
    "    alldf = pd.read_excel(file, sheet_name=None, skiprows=2)\n",
    "    for sheetname in alldf.keys():\n",
    "        tmpdf = alldf[sheetname]\n",
    "        tmpdf = tmpdf.sort_values(by=[\"seqnames\", \"start\"])\n",
    "        print(tmpdf.shape)\n",
    "        tmpdf[[\"seqnames\", \"start\", \"end\"]].to_csv(os.path.join(maindir, f\"{file.name.replace('.xls', f'.{sheetname}.bed')}\"), sep=\"\\t\", index=False, header=False)"
   ]
  }
 ],
 "metadata": {
  "kernelspec": {
   "display_name": "pytorch",
   "language": "python",
   "name": "python3"
  },
  "language_info": {
   "codemirror_mode": {
    "name": "ipython",
    "version": 3
   },
   "file_extension": ".py",
   "mimetype": "text/x-python",
   "name": "python",
   "nbconvert_exporter": "python",
   "pygments_lexer": "ipython3",
   "version": "3.9.19"
  }
 },
 "nbformat": 4,
 "nbformat_minor": 5
}
